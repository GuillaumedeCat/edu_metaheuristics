{
 "cells": [
  {
   "cell_type": "markdown",
   "metadata": {},
   "source": [
    "# Algorithmes génétiques\n",
    "\n",
    "Vous souhaitez partir dans l'espace et trouvez un manuel un peu étrange. Ce manuel contient un message en 32 caractères qui n'est plus lisible. Le manuel vous fournit en revanche une fonction Python (!) qui, à partir d'un message passé en paramètre (chaîne de caractère) renvoit le nombre de caractères correctement placés par rapport au message d'origine."
   ]
  },
  {
   "cell_type": "code",
   "execution_count": 1,
   "metadata": {},
   "outputs": [],
   "source": [
    "from stochastic.data import score"
   ]
  },
  {
   "cell_type": "code",
   "execution_count": 2,
   "metadata": {},
   "outputs": [
    {
     "data": {
      "text/plain": [
       "1"
      ]
     },
     "execution_count": 2,
     "metadata": {},
     "output_type": "execute_result"
    }
   ],
   "source": [
    "score(\"Hi guys!\")"
   ]
  },
  {
   "cell_type": "markdown",
   "metadata": {},
   "source": [
    "Bon, c'est déjà ça..."
   ]
  },
  {
   "cell_type": "markdown",
   "metadata": {},
   "source": [
    "La fonction fournie permet de faire des tests avec une autre solution, ce qui va nous permettre de mettre au point un algorithme de résolution."
   ]
  },
  {
   "cell_type": "code",
   "execution_count": 3,
   "metadata": {},
   "outputs": [
    {
     "data": {
      "text/plain": [
       "3"
      ]
     },
     "execution_count": 3,
     "metadata": {},
     "output_type": "execute_result"
    }
   ],
   "source": [
    "score(\"plop\", solution=\"ploc\")"
   ]
  },
  {
   "cell_type": "markdown",
   "metadata": {},
   "source": [
    "Nous allons mettre au point un algorithme de résolution de type « algorithmes génétiques » pour résoudre le décodage du message \"Hello world!\"."
   ]
  },
  {
   "cell_type": "code",
   "execution_count": 4,
   "metadata": {},
   "outputs": [
    {
     "data": {
      "text/plain": [
       "12"
      ]
     },
     "execution_count": 4,
     "metadata": {},
     "output_type": "execute_result"
    }
   ],
   "source": [
    "score_hello = lambda x: score(x, solution=\"Hello world!\")\n",
    "score_hello(\"Hello world!\")"
   ]
  },
  {
   "cell_type": "markdown",
   "metadata": {},
   "source": [
    "Tout d'abord, considérons l'ensemble des caractères qui forment notre mot. On a le droit:\n",
    " - aux vingt-six lettres de l'alphabet minuscules; (message en anglais, sans accent!)\n",
    " - aux mêmes lettres en majuscules;\n",
    " - à la ponctuation."
   ]
  },
  {
   "cell_type": "code",
   "execution_count": 5,
   "metadata": {},
   "outputs": [
    {
     "data": {
      "text/plain": [
       "'ABCDEFGHIJKLMNOPQRSTUVWXYZabcdefghijklmnopqrstuvwxyz!\"#$%&\\'()*+,-./:;<=>?@[\\\\]^_`{|}~ '"
      ]
     },
     "execution_count": 5,
     "metadata": {},
     "output_type": "execute_result"
    }
   ],
   "source": [
    "import string\n",
    "\n",
    "letters = string.ascii_uppercase + string.ascii_lowercase + string.punctuation + ' '\n",
    "letters"
   ]
  },
  {
   "cell_type": "markdown",
   "metadata": {},
   "source": [
    "Puisqu'on travaille avec un problème plus petit, on stocke cette taille:"
   ]
  },
  {
   "cell_type": "code",
   "execution_count": 6,
   "metadata": {},
   "outputs": [
    {
     "data": {
      "text/plain": [
       "12"
      ]
     },
     "execution_count": 6,
     "metadata": {},
     "output_type": "execute_result"
    }
   ],
   "source": [
    "length = score_hello(\"Hello world!\")\n",
    "length"
   ]
  },
  {
   "cell_type": "markdown",
   "metadata": {},
   "source": [
    "La bibliothèque `random` nous sera utile pour cette séance. Elle propose notamment la fonction `choice`:"
   ]
  },
  {
   "cell_type": "code",
   "execution_count": 7,
   "metadata": {},
   "outputs": [
    {
     "data": {
      "text/plain": [
       "'('"
      ]
     },
     "execution_count": 7,
     "metadata": {},
     "output_type": "execute_result"
    }
   ],
   "source": [
    "import random\n",
    "\n",
    "random.choice(letters)"
   ]
  },
  {
   "cell_type": "markdown",
   "metadata": {},
   "source": [
    "On peut également tirer plusieurs lettres (différentes) avec la fonction `sample`:"
   ]
  },
  {
   "cell_type": "code",
   "execution_count": 8,
   "metadata": {},
   "outputs": [
    {
     "data": {
      "text/plain": [
       "['d', '_', \"'\"]"
      ]
     },
     "execution_count": 8,
     "metadata": {},
     "output_type": "execute_result"
    }
   ],
   "source": [
    "random.sample(letters, 3)"
   ]
  },
  {
   "cell_type": "markdown",
   "metadata": {},
   "source": [
    "Notons également les deux fonctions suivantes pour transformer une chaîne de caractère en liste, et inversement:"
   ]
  },
  {
   "cell_type": "code",
   "execution_count": 9,
   "metadata": {},
   "outputs": [
    {
     "data": {
      "text/plain": [
       "['t', 'o', 't', 'o']"
      ]
     },
     "execution_count": 9,
     "metadata": {},
     "output_type": "execute_result"
    }
   ],
   "source": [
    "list(\"toto\")"
   ]
  },
  {
   "cell_type": "code",
   "execution_count": 10,
   "metadata": {},
   "outputs": [
    {
     "data": {
      "text/plain": [
       "\"'Tx^V>o T}<k\""
      ]
     },
     "execution_count": 10,
     "metadata": {},
     "output_type": "execute_result"
    }
   ],
   "source": [
    "\"\".join([random.choice(letters) for _ in range(12)])"
   ]
  },
  {
   "cell_type": "markdown",
   "metadata": {},
   "source": [
    "Estimons le temps d'évaluation de la fonction `score_hello`:"
   ]
  },
  {
   "cell_type": "code",
   "execution_count": 11,
   "metadata": {},
   "outputs": [
    {
     "name": "stdout",
     "output_type": "stream",
     "text": [
      "The slowest run took 6.60 times longer than the fastest. This could mean that an intermediate result is being cached.\n",
      "100000 loops, best of 3: 2.19 µs per loop\n"
     ]
    }
   ],
   "source": [
    "%%timeit\n",
    "score_hello(\"Hello,World~\")"
   ]
  },
  {
   "cell_type": "markdown",
   "metadata": {},
   "source": [
    "<div class=\"alert alert-warning\">\n",
    "**Question : ** Estimer le temps d'évaluation au pire des cas (bruteforce) de tous les messages à 12 (puis à 32) caractères possibles.\n",
    "</div>"
   ]
  },
  {
   "cell_type": "code",
   "execution_count": 12,
   "metadata": {},
   "outputs": [
    {
     "data": {
      "text/plain": [
       "2.418109871314926e+17"
      ]
     },
     "execution_count": 12,
     "metadata": {},
     "output_type": "execute_result"
    }
   ],
   "source": [
    "1.7e-6 * len(letters)**12"
   ]
  },
  {
   "cell_type": "code",
   "execution_count": 13,
   "metadata": {},
   "outputs": [
    {
     "data": {
      "text/plain": [
       "'12 letters: 7.67e+09 yr; 32 letters: 2.97e+48 yr'"
      ]
     },
     "execution_count": 13,
     "metadata": {},
     "output_type": "execute_result"
    }
   ],
   "source": [
    "# en nombre d'années (âge de l'univers: 1.38e10)\n",
    "\"12 letters: {:.3g} yr; 32 letters: {:.3g} yr\".format(\n",
    "    1.7e-6 * len(letters)**12 / 365 / 24 / 60 / 60,\n",
    "    1.7e-6 * len(letters)**32 / 365 / 24 / 60 / 60)"
   ]
  },
  {
   "cell_type": "markdown",
   "metadata": {},
   "source": [
    "## Algorithmes\n",
    "\n",
    "<div class=\"alert alert-warning\">\n",
    "**Théorie !**\n",
    "</div>\n",
    "\n",
    "Voir les slides...\n",
    "\n",
    "<div class=\"alert alert-warning\">\n",
    "**En pratique...**\n",
    "</div>\n",
    "\n",
    "Toute la difficulté dans l'utilisation des algorithmes génétiques revient à correctement choisir un relativement grand nombre de paramètres:\n",
    "\n",
    " - comment choisir une taille de la population de départ ;\n",
    " - comment initialiser la population de départ ;\n",
    " - comment procéder aux croisements :\n",
    "     - comment choisir deux éléments à croiser (*la sélection*);\n",
    "     - comment croiser les éléments ;\n",
    " - comment procéder aux mutations :\n",
    "     - quel taux de mutation choisir ;\n",
    "     - comment muter un élément ;\n",
    " - comment arrêter la recherche :\n",
    "     - on peut fixer un nombre d'itérations maximal ;\n",
    "     - comment s'assurer qu'on conserve toujours la meilleure instance (*l'élitisme*) ;\n",
    " - comment optimiser la convergence :\n",
    "     - la distribution (détails en annexe pour les personnes motivées/intéressées/en avance).\n",
    "     \n",
    "<div class=\"alert alert-success\">\n",
    "**Objectifs de la séance :** La suite de l'exercice consiste à coder des algorithmes génétiques en utilisant votre inspiration pour essayer différents opérateurs de sélection, de croisement et de mutation.\n",
    "</div>\n",
    "\n",
    "Quelques remarques :\n",
    " 1. **Nous sommes là pour vous guider**, pour vous suggérer des pistes d'amélioration, mais aussi pour vous laisser faire vos erreurs/comprendre par vous-même pourquoi une méthode n'est pas forcément pertinente;\n",
    " 1. En paramétrant des méthodes stochastiques, on traverse en général une longue phase de « ça ne fonctionne pas » avant d'arriver aux bons paramètres qui permettent de résoudre le problème de manière efficace à tous les coups;\n",
    " 1. Essayez de **garder une interface générique** pour vos fonctions afin de pouvoir facilement remplacer les opérateurs que vous testerez.\n",
    " \n",
    "<div class=\"alert alert-warning\">\n",
    "**C'est à vous !**\n",
    "</div>"
   ]
  },
  {
   "cell_type": "code",
   "execution_count": 14,
   "metadata": {
    "collapsed": true
   },
   "outputs": [],
   "source": [
    "# Selection\n",
    "# Une seule méthode suffit ; le plus simple à expliquer est `tournament`.\n",
    "\n",
    "import bisect\n",
    "import itertools\n",
    "\n",
    "def tournament(samples, elite_size):\n",
    "    for _ in samples[elite_size:]:\n",
    "        yield max(random.sample(samples, 2))\n",
    "                \n",
    "def roulette(samples, elite_size):\n",
    "    cumul_scores = list(\n",
    "        itertools.accumulate(score for score, _ in samples))\n",
    "    total = cumul_scores[-1]\n",
    "    for _ in samples[elite_size:]:\n",
    "        yield samples[bisect.bisect(cumul_scores, random.uniform(0, total))]"
   ]
  },
  {
   "cell_type": "code",
   "execution_count": 15,
   "metadata": {
    "collapsed": true
   },
   "outputs": [],
   "source": [
    "# Mask\n",
    "\n",
    "# Il faudrait présenter `two_point_crossover` (le classique) mais pour nous,\n",
    "# c'est finalement `uniform_point_crossover` qui fonctionne le mieux\n",
    "\n",
    "import itertools\n",
    "\n",
    "def one_point_crossover(length):\n",
    "    point = random.randint(0, length)\n",
    "    yield from itertools.repeat(True, point)\n",
    "    yield from itertools.repeat(False, length - point)\n",
    "\n",
    "def two_point_crossover(length):\n",
    "    point1, point2 = sorted(random.randint(0, length) for _ in range(2))\n",
    "    yield from itertools.repeat(True, point1)\n",
    "    yield from itertools.repeat(False, point2 - point1)\n",
    "    yield from itertools.repeat(True, length - point2)\n",
    "    \n",
    "def uniform_point_crossover(length):\n",
    "    return (random.choice((False, True)) for i in range(length))\n"
   ]
  },
  {
   "cell_type": "code",
   "execution_count": 16,
   "metadata": {
    "collapsed": true
   },
   "outputs": [],
   "source": [
    "# Combine \n",
    "# Une seule solution a priori, c'est `mask` qui fait tout le boulot)\n",
    "\n",
    "def combine(c1, c2, mask):\n",
    "    for i1, i2, m in zip(c1[1], c2[1], mask):\n",
    "        if m: yield i1, i2\n",
    "        else: yield i2, i1"
   ]
  },
  {
   "cell_type": "code",
   "execution_count": 17,
   "metadata": {
    "collapsed": true
   },
   "outputs": [],
   "source": [
    "# Mutate \n",
    "# Attention à mettre la proba de 5% sur une lettre et pas sur un mot pour avoir assez d'entropie\n",
    "\n",
    "def mutate(x):\n",
    "    for i, _ in enumerate(x):\n",
    "        if random.random() < .05:\n",
    "            i = random.randint(0, 11)\n",
    "            x[i] = random.choice(letters)\n",
    "    return \"\".join(x)"
   ]
  },
  {
   "cell_type": "code",
   "execution_count": 18,
   "metadata": {
    "collapsed": true
   },
   "outputs": [],
   "source": [
    "# New generation (unique solution)\n",
    "\n",
    "def pairwise(iterable):\n",
    "    \"\"\"Trick to get [(a, b), (c, d), ...] from [a, b, c, d, ...]\"\"\"\n",
    "    x = iter(iterable)\n",
    "    return zip(x, x)\n",
    "\n",
    "def new_generation(samples, length, mask, selection, elite_size):\n",
    "    for x, y in pairwise(selection(samples, elite_size)):\n",
    "        for t in zip(*combine(x, y, mask(length))):\n",
    "            yield mutate(list(t))"
   ]
  },
  {
   "cell_type": "code",
   "execution_count": 19,
   "metadata": {
    "collapsed": true
   },
   "outputs": [],
   "source": [
    "def run(score, length,\n",
    "        population=150,\n",
    "        elite_size=2,\n",
    "        mask=uniform_point_crossover,\n",
    "        selection=tournament,\n",
    "        iterations=200):\n",
    "    \n",
    "    # Initial population\n",
    "    population = [\"\".join(random.choice(letters) for _ in range(length)) for i in range(population)]\n",
    "\n",
    "    for i in range(iterations):\n",
    "        # Evaluate a population\n",
    "        scored_population = sorted(((score(i), i) for i in population), reverse=True)\n",
    "        max_, best = scored_population[0]\n",
    "        \n",
    "        # Start a new generation with the elite\n",
    "        population = [x[1] for x in scored_population[:elite_size]]\n",
    "\n",
    "        if max_ == length:\n",
    "            print()\n",
    "            print(\"Found '{}' in {} iterations.\".format(best, i))\n",
    "            break\n",
    "        if i % 5 == 0:\n",
    "            print(\"{} → {}\".format(best, max_))\n",
    "        \n",
    "        # Then add the crossover/mutation\n",
    "        population += list(new_generation(scored_population, length, mask, selection, elite_size))\n"
   ]
  },
  {
   "cell_type": "code",
   "execution_count": 20,
   "metadata": {},
   "outputs": [
    {
     "name": "stdout",
     "output_type": "stream",
     "text": [
      "V(bl+>nOA$dc → 2\n",
      "[XMloJchNld` → 4\n",
      "}eNloJgoNld! → 7\n",
      "~emloJwo>ld! → 8\n",
      "Hellorwoyld! → 10\n",
      "Hellorworld! → 11\n",
      "Hello~world! → 11\n",
      "Hello~world! → 11\n",
      "Hello~world! → 11\n",
      "\n",
      "Found 'Hello world!' in 45 iterations.\n"
     ]
    }
   ],
   "source": [
    "run(score_hello, 12)"
   ]
  },
  {
   "cell_type": "markdown",
   "metadata": {},
   "source": [
    "<div class=\"alert alert-success\">\n",
    "**Résolution :** Essayons maintenant avec la fonction reçue par notre ami !\n",
    "</div>\n",
    "\n",
    "Il faudra sans doute rejouer avec différents paramètres de l'algorithme pour trouver une solution...\n",
    "\n",
    "Dans le pire des cas, il faut garder à l'esprit la philosophie des méthodes stochastiques, à savoir « Mieux vaut une solution pas trop mauvaise que pas de solution »."
   ]
  },
  {
   "cell_type": "code",
   "execution_count": 21,
   "metadata": {},
   "outputs": [
    {
     "name": "stdout",
     "output_type": "stream",
     "text": [
      "-VV(^MvuY;@oN<rv(][yoii'voX_DI}Q → 4\n",
      "vTaQb{hGrSFwfQPCytEsDOJnXHP'\"IIy → 6\n",
      "hVaVz>oweS*]w!l (:eR?OB'TLXANIz! → 12\n",
      "EjabA}Xgr tSwe|<jnd D}J'TzPANIC! → 19\n",
      "naab yZbr towel;(ne DON'T bSNZC! → 22\n",
      "O)ab!bourc?owel and DON'T PANIC! → 26\n",
      "Gzab y&ur to^el and DON'T PANIC! → 29\n",
      "GrIb yourytowel and DON'T PANIC! → 30\n",
      "Geab your towel and DON'T PANIC! → 31\n",
      "Mrab your towel and DON'T PANIC! → 31\n",
      "Mrab your towel and DON'T PANIC! → 31\n",
      "\n",
      "Found 'Grab your towel and DON'T PANIC!' in 52 iterations.\n"
     ]
    }
   ],
   "source": [
    "# Il faut vraiment booster la population pour trouver la solution!\n",
    "# Sinon, il faudra faire le malin avec la méthode en annexe\n",
    "\n",
    "run(score, 32, population=700)"
   ]
  },
  {
   "cell_type": "markdown",
   "metadata": {},
   "source": [
    "## Annexe : calcul distribué, fonctionnement par îlots.\n",
    "\n",
    "Une manière de distribuer les calculs quand on est :\n",
    " - un peu limite en ressource ;\n",
    " - coincé dans des minima locaux ;\n",
    " \n",
    "consiste à lancer plusieurs exécutions du même algorithme en parallèle. Cette méthode permet également d'**avoir un comportement plus stable d'une exécution à l'autre**.\n",
    "\n",
    "Chaque algorithme va alors converger vers différents minima locaux. Le principe des îlots consiste alors à faire voyager les meilleurs éléments de chaque îlot vers les îlots voisins afin qu'ils se croisent avec d'autres populations. Il faut alors trouver un rythme de *voyage* qui permette à chaque îlot de développer des spécificités tout en brassant suffisamment souvent pour aider à la convergence.\n",
    "\n",
    "Nous vous proposons alors le code suivant à base de threads (module `concurrent.futures`) et avec des queues (thread-safe!) pour communiquer. Les particularités du langage Python (rechercher \"Global Interpreter Lock\" (GIL) pour plus de détails...) ne permettent pas de procéder à un vrai multithreading donc la méthode serait à vrai dire plus efficace dans un autre langage de programmation."
   ]
  },
  {
   "cell_type": "code",
   "execution_count": 22,
   "metadata": {
    "collapsed": true
   },
   "outputs": [],
   "source": [
    "def run_islands(idx, length=32,\n",
    "                population=400,\n",
    "                elite_size=2,\n",
    "                mask=uniform_point_crossover,\n",
    "                selection=tournament,\n",
    "                iterations=200):\n",
    "\n",
    "    # Initial population\n",
    "    population = [\"\".join(random.choice(letters) for _ in range(length)) for i in range(population)]\n",
    "\n",
    "    for i in range(iterations):\n",
    "        # Evaluation a population\n",
    "        scored_population = sorted(((score(i), i) for i in population), reverse=True)\n",
    "        max_, best = scored_population[0]\n",
    "\n",
    "        # Start a new generation with the elite\n",
    "        population = [x[1] for x in scored_population[:elite_size]]\n",
    "\n",
    "        if max_ == length:\n",
    "            return (best, i)\n",
    "        if i % 5 == 0:\n",
    "            # astuce du \\n pour éviter deux threads qui écrivent sur la même ligne\n",
    "            print(\"Island {} : {} → {}\\n\".format(idx, best, max_), end=\"\", flush=True)\n",
    "            # Pass to next island\n",
    "            queues[(idx + 1) % n_islands].put(population)\n",
    "            try:\n",
    "                # Get from previous island\n",
    "                population += queues[idx].get(block=True, timeout=5)\n",
    "                queues[idx].task_done()\n",
    "            except queue.Empty:\n",
    "                return (None, i)\n",
    "            \n",
    "        # Then add the crossover/mutation\n",
    "        population += list(new_generation(scored_population, length, mask, selection, 2*elite_size))\n",
    "            \n",
    "    return (None, i)"
   ]
  },
  {
   "cell_type": "code",
   "execution_count": 23,
   "metadata": {
    "scrolled": false
   },
   "outputs": [
    {
     "name": "stdout",
     "output_type": "stream",
     "text": [
      "Island 0 : G?=^P!AY]%P<a\"p}rGd xzzC&VEVvuC_ → 4\n",
      "Island 1 : Z{lqI*K(^ E+Le;WcMH\\ iNt$Pia\"T'~ → 3\n",
      "Island 2 : G*FbM@VyfVtf{~UMq$goM~im,**y}[>$ → 3\n",
      "Island 0 : z?=Xcyoon(>kH^l:SL\",NOXG& ,}md|! → 6\n",
      "Island 1 : _SMroFAgrha+Z&V affu:[<og qAQI~! → 7\n",
      "Island 2 : ~B+x WoSHfj\\G<Hsks' DG`Fd-d#S)/! → 5\n",
      "Island 1 : `Sys-xdr| /(LIu andi:O~*g )ANIC! → 12\n",
      "Island 0 : |-abz*o+ZJvcweR|anK DO)VW uAO:(~ → 12\n",
      "Island 2 : z\"UG\\yT]n=&Fwe` ankCC_ZF[ P#NIC! → 12\n",
      "Island 2 : UwabogaSa@(wwel and DzN'T dA,IS! → 18\n",
      "Island 1 : w[wb iomr>t[Hew %ndiD[N'g PAoIC! → 18\n",
      "Island 0 : i+as#-luG Uewel)and}GON'T+PANI*! → 18\n",
      "Island 2 : xL[b y,\"zf%~uel and DON'T PANIC! → 22\n",
      "Island 1 : urgc aou~ trwel andCDONtT cANIC! → 23\n",
      "Island 0 : jr:? youM[>Bwel and D[NUT PANIC! → 23\n",
      "Island 2 : !rwb |Sur : wel and DON'T PANIC! → 26\n",
      "Island 1 : yra-QS?u[ towel and DON'T PANIC! → 26\n",
      "Island 0 : GrIbXysEL towel and DON'T PANIC! → 27\n",
      "Island 2 : arub y,ur t_wel and DON'T PANIC! → 28\n",
      "Island 1 : |dcb }ou= towel and DON'T PANIC! → 27\n",
      "Island 0 : Grab y_uK tEwel and DON'T PANIC! → 29\n",
      "Island 2 : Grwb your Sowel and DON'T PANIC! → 30\n",
      "Island 1 : xraq your towel and DON'T PANIC! → 30\n",
      "Island 0 :  rab your 'owel and DON'T PANIC! → 30\n",
      "Island 2 : }aab your towel and DON'T PANIC! → 30\n",
      "Island 1 : =rab your towel and DON'T PANIC! → 31\n",
      "Island 0 : yrab yXur towel and DON'T PANIC! → 30\n",
      "Island 2 : Grab yo<r towel and DON'T PANIC! → 31\n",
      "Found 'Grab your towel and DON'T PANIC!' in 43 iterations on island 0\n",
      "Island 1 : ~rab your towel and DON'T PANIC! → 31\n",
      "Island 2 : ~rab your towel and DON'T PANIC! → 31\n"
     ]
    }
   ],
   "source": [
    "from concurrent import futures\n",
    "import queue\n",
    "\n",
    "n_islands = 3\n",
    "# Attention à bien recréer des queues de communications vides !\n",
    "queues = [queue.Queue() for _ in range(n_islands)]\n",
    "\n",
    "executor = futures.ThreadPoolExecutor(max_workers = n_islands)\n",
    "results = executor.map(run_islands, range(n_islands))\n",
    "\n",
    "best = None\n",
    "total_it = 0\n",
    "for i, r in enumerate(results):\n",
    "    best_i, it = r\n",
    "    if best_i is not None:\n",
    "        best = best_i\n",
    "        print(\"Found '{}' in {} iterations on island {}\".format(best_i, it, i))\n",
    "    total_it += it\n"
   ]
  },
  {
   "cell_type": "code",
   "execution_count": null,
   "metadata": {
    "collapsed": true
   },
   "outputs": [],
   "source": []
  }
 ],
 "metadata": {
  "kernelspec": {
   "display_name": "Python 3",
   "language": "python",
   "name": "python3"
  },
  "language_info": {
   "codemirror_mode": {
    "name": "ipython",
    "version": 3
   },
   "file_extension": ".py",
   "mimetype": "text/x-python",
   "name": "python",
   "nbconvert_exporter": "python",
   "pygments_lexer": "ipython3",
   "version": "3.6.3"
  }
 },
 "nbformat": 4,
 "nbformat_minor": 2
}
